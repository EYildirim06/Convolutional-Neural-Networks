{
  "cells": [
    {
      "cell_type": "code",
      "source": [
        "# Convolutional Neural Networks\n",
        "\n",
        "\n",
        "In this assignemnt, you will implement convolutional (CONV) and pooling (POOL) layers in numpy.\n",
        "\n",
        "**Before submitting your assignment:**\n",
        "- Make sure you have not changed the assignment code where it is not required.\n",
        "You are only supposed to write code between\n",
        "#### #YOUR CODE STARTS HERE\n",
        "...\n",
        "...\n",
        "#### #YOUR CODE ENDS HERE\n",
        "and create the variables you are asked to.\n"
      ],
      "outputs": [],
      "execution_count": null,
      "metadata": {
        "jupyter": {
          "source_hidden": false,
          "outputs_hidden": false
        },
        "nteract": {
          "transient": {
            "deleting": false
          }
        }
      }
    },
    {
      "cell_type": "markdown",
      "source": [
        "**Notation**:\n",
        "- Superscript $[l]$ denotes an object of the $l^{th}$ layer.\n",
        "    - Example: $a^{[4]}$ is the $4^{th}$ layer activation. $W^{[5]}$ and $b^{[5]}$ are the $5^{th}$ layer parameters.\n",
        "\n",
        "\n",
        "- Superscript $(i)$ denotes an object from the $i^{th}$ example.\n",
        "    - Example: $x^{(i)}$ is the $i^{th}$ training example input.\n",
        "    \n",
        "    \n",
        "- Subscript $i$ denotes the $i^{th}$ entry of a vector.\n",
        "    - Example: $a^{[l]}_i$ denotes the $i^{th}$ entry of the activations in layer $l$, assuming this is a fully connected (FC) layer.\n",
        "    \n",
        "    \n",
        "- $n_H$, $n_W$ and $n_C$ denote respectively the height, width and number of channels of a given layer. If you want to reference a specific layer $l$, you can also write $n_H^{[l]}$, $n_W^{[l]}$, $n_C^{[l]}$.\n",
        "- $n_{H_{prev}}$, $n_{W_{prev}}$ and $n_{C_{prev}}$ denote respectively the height, width and number of channels of the previous layer. If referencing a specific layer $l$, this could also be denoted $n_H^{[l-1]}$, $n_W^{[l-1]}$, $n_C^{[l-1]}$.\n"
      ],
      "metadata": {
        "id": "yXbWVclDSPot"
      }
    },
    {
      "cell_type": "markdown",
      "source": [
        "<a name='1'></a>\n",
        "## 1 - Packages\n",
        "\n",
        "Let's first import all the packages that you will need during this assignment.\n",
        "- [numpy](www.numpy.org) is the fundamental package for scientific computing with Python.\n",
        "- [matplotlib](http://matplotlib.org) is a library to plot graphs in Python.\n",
        "- np.random.seed(1) is used to keep all the random function calls consistent. This helps to grade your work."
      ],
      "metadata": {
        "id": "C0uSoHUeNIXq"
      }
    },
    {
      "cell_type": "code",
      "source": [
        "import numpy as np\n",
        "import matplotlib.pyplot as plt\n",
        "\n",
        "%matplotlib inline\n",
        "%load_ext autoreload\n",
        "\n",
        "np.random.seed(1)"
      ],
      "outputs": [],
      "execution_count": 1,
      "metadata": {
        "id": "sVj0-SHiNIXq"
      }
    },
    {
      "cell_type": "markdown",
      "source": [
        "<a name='2'></a>\n",
        "## 2 - Outline of the Assignment\n",
        "\n",
        "You will be implementing the following building blocks of a convolutional neural network from scratch in `numpy`.\n",
        "\n",
        "- Convolution functions, including:\n",
        "    - Zero Padding\n",
        "    - Convolve window\n",
        "    - Convolution forward\n",
        "- Pooling functions, including:\n",
        "    - Max Pooling forward\n",
        "    - Average Pooling forward\n"
      ],
      "metadata": {
        "id": "1cFxo7aqNIXs"
      }
    },
    {
      "cell_type": "markdown",
      "source": [
        "<a name='3'></a>\n",
        "## 3 - Convolution Layer\n",
        "\n",
        "In this part, you will build every step of the convolution layer. You will first implement two helper functions: one for zero padding and the other for computing the convolution function itself."
      ],
      "metadata": {
        "id": "NO5Gp1D4NIXs"
      }
    },
    {
      "cell_type": "markdown",
      "source": [
        "<a name='3-1'></a>\n",
        "### 3.1 - Zero-Padding\n",
        "\n",
        "Zero-padding adds zeros around the border of an image. The main benefits of padding are:\n",
        "\n",
        "- It allows you to use a CONV layer without necessarily shrinking the height and width of the volumes. This is important for building deeper networks, since otherwise the height/width would shrink as you go to deeper layers. An important special case is the \"same\" convolution, in which the height/width is exactly preserved after one layer.\n",
        "\n",
        "- It helps us keep more of the information at the border of an image. Without padding, very few values at the next layer would be affected by pixels at the edges of an image.\n",
        "\n",
        "<a name='ex-1'></a>\n",
        "### Exercise 1 - zero_pad\n",
        "Implement the following function, which pads all the images of a batch of examples X with zeros. [Use np.pad](https://docs.scipy.org/doc/numpy/reference/generated/numpy.pad.html). Note if you want to pad the array \"a\" of shape $(5,5,5,5,5)$ with `1-pixel padding` for the `2nd` dimension, `3-pixel padding` for the `4th` dimension and no padding for the rest, you would do:\n",
        "```python\n",
        "a = np.pad(a, ((0,0), (1,1), (0,0), (3,3), (0,0)), mode='constant', constant_values = (0,0))\n",
        "```\n"
      ],
      "metadata": {
        "id": "qo6DPVDxNIXs"
      }
    },
    {
      "cell_type": "code",
      "source": [
        "# GRADED FUNCTION: zero_pad\n",
        "\n",
        "def zero_pad(X, pad):\n",
        "    \"\"\"\n",
        "    Pad with zeros all images of the dataset X. The padding is applied to the height and width of an image.\n",
        "\n",
        "    Argument:\n",
        "    X -- python numpy array of shape (m, n_H, n_W, n_C) representing a batch of m images\n",
        "    pad -- integer, amount of padding around each image on vertical and horizontal dimensions\n",
        "\n",
        "    Returns:\n",
        "    X_pad -- padded image of shape (m, n_H + 2 * pad, n_W + 2 * pad, n_C)\n",
        "    \"\"\"\n",
        "\n",
        "    #(≈ 1 line)\n",
        "    # YOUR CODE STARTS HERE\n",
        "    X_pad = np.pad(X, ((0, 0), (pad, pad), (pad, pad), (0, 0)), mode='constant', constant_values=(0, 0))\n",
        "\n",
        "    # YOUR CODE ENDS HERE\n",
        "\n",
        "    return X_pad"
      ],
      "outputs": [],
      "execution_count": 2,
      "metadata": {
        "deletable": false,
        "nbgrader": {
          "cell_type": "code",
          "checksum": "a14748505131e4100f550b8afcfb2d33",
          "grade": false,
          "grade_id": "cell-3096786c4bcad84a",
          "locked": false,
          "schema_version": 3,
          "solution": true,
          "task": false
        },
        "id": "wJYNs4qmNIXt"
      }
    },
    {
      "cell_type": "code",
      "source": [
        "np.random.seed(1)\n",
        "x = np.random.randn(4, 3, 3, 2)\n",
        "x_pad = zero_pad(x, 3)\n",
        "print (\"x.shape =\\n\", x.shape)\n",
        "print (\"x_pad.shape =\\n\", x_pad.shape)\n",
        "print (\"x[1,1] =\\n\", x[1,1])\n",
        "print (\"x_pad[1,1] =\\n\", x_pad[1, 1])\n",
        "\n",
        "assert type(x_pad) == np.ndarray, \"Output must be a np array\"\n",
        "assert x_pad.shape == (4, 9, 9, 2), f\"Wrong shape: {x_pad.shape} != (4, 9, 9, 2)\"\n",
        "print(x_pad[0, 0:2,:, 0])\n",
        "assert np.allclose(x_pad[0, 0:2,:, 0], [[0, 0, 0, 0, 0, 0, 0, 0, 0], [0, 0, 0, 0, 0, 0, 0, 0, 0]], 1e-15), \"Rows are not padded with zeros\"\n",
        "assert np.allclose(x_pad[0, :, 7:9, 1].transpose(), [[0, 0, 0, 0, 0, 0, 0, 0, 0], [0, 0, 0, 0, 0, 0, 0, 0, 0]], 1e-15), \"Columns are not padded with zeros\"\n",
        "assert np.allclose(x_pad[:, 3:6, 3:6, :], x, 1e-15), \"Internal values are different\"\n"
      ],
      "outputs": [
        {
          "output_type": "stream",
          "name": "stdout",
          "text": "x.shape =\n (4, 3, 3, 2)\nx_pad.shape =\n (4, 9, 9, 2)\nx[1,1] =\n [[ 0.90085595 -0.68372786]\n [-0.12289023 -0.93576943]\n [-0.26788808  0.53035547]]\nx_pad[1,1] =\n [[0. 0.]\n [0. 0.]\n [0. 0.]\n [0. 0.]\n [0. 0.]\n [0. 0.]\n [0. 0.]\n [0. 0.]\n [0. 0.]]\n[[0. 0. 0. 0. 0. 0. 0. 0. 0.]\n [0. 0. 0. 0. 0. 0. 0. 0. 0.]]\n"
        }
      ],
      "execution_count": 3,
      "metadata": {
        "deletable": false,
        "editable": false,
        "nbgrader": {
          "cell_type": "code",
          "checksum": "f57532552ae25bcf8ab6b888298349dd",
          "grade": true,
          "grade_id": "cell-65f1ed75ba39bc0a",
          "locked": true,
          "points": 10,
          "schema_version": 3,
          "solution": false,
          "task": false
        },
        "id": "sKzm8raNNIXt",
        "colab": {
          "base_uri": "https://localhost:8080/"
        },
        "outputId": "b18e6dcd-120b-428b-a6a2-bf9f405d9ff1"
      }
    },
    {
      "cell_type": "markdown",
      "source": [
        "Your output should look like:\n",
        "```python\n",
        "x.shape =\n",
        " (4, 3, 3, 2)\n",
        "x_pad.shape =\n",
        " (4, 9, 9, 2)\n",
        "x[1,1] =\n",
        " [[ 0.90085595 -0.68372786]\n",
        " [-0.12289023 -0.93576943]\n",
        " [-0.26788808  0.53035547]]\n",
        "x_pad[1,1] =\n",
        " [[0. 0.]\n",
        " [0. 0.]\n",
        " [0. 0.]\n",
        " [0. 0.]\n",
        " [0. 0.]\n",
        " [0. 0.]\n",
        " [0. 0.]\n",
        " [0. 0.]\n",
        " [0. 0.]]\n",
        "[[0. 0. 0. 0. 0. 0. 0. 0. 0.]\n",
        " [0. 0. 0. 0. 0. 0. 0. 0. 0.]]\n",
        "\n",
        " ```"
      ],
      "metadata": {
        "id": "q9R4K8jtWxPi"
      }
    },
    {
      "cell_type": "code",
      "source": [
        "plt.rcParams['image.interpolation'] = 'nearest'\n",
        "plt.rcParams['image.cmap'] = 'gray'\n",
        "\n",
        "fig, axarr = plt.subplots(1, 2)\n",
        "axarr[0].set_title('x')\n",
        "axarr[0].imshow(x[0, :, :, 0])\n",
        "axarr[1].set_title('x_pad')\n",
        "axarr[1].imshow(x_pad[0, :, :, 0])"
      ],
      "outputs": [
        {
          "output_type": "execute_result",
          "execution_count": 5,
          "data": {
            "text/plain": "<matplotlib.image.AxesImage at 0x30d6a10>"
          },
          "metadata": {}
        },
        {
          "output_type": "display_data",
          "data": {
            "text/plain": "<Figure size 640x480 with 2 Axes>",
            "image/png": "[encoded data removed]"
          },
          "metadata": {}
        }
      ],
      "execution_count": 4,
      "metadata": {
        "id": "Ws_c5Vk_VuoS",
        "colab": {
          "base_uri": "https://localhost:8080/",
          "height": 325
        },
        "outputId": "964894b6-1f4d-4507-e3c2-f4cc910acfc4"
      }
    },
    {
      "cell_type": "markdown",
      "source": [
        "<a name='3-2'></a>\n",
        "### 3.2 - Single Step of Convolution\n",
        "\n",
        "In this part, implement a single step of convolution, in which you apply the filter to a single position of the input. This will be used to build a convolutional unit, which:\n",
        "\n",
        "- Takes an input volume\n",
        "- Applies a filter at every position of the input\n",
        "- Outputs another volume (usually of different size)\n",
        "\n",
        "In a computer vision application, each value in the matrix on the left corresponds to a single pixel value. You convolve a 3x3 filter with the image by multiplying its values element-wise with the original matrix, then summing them up and adding a bias. In this first step of the exercise, you will implement a single step of convolution, corresponding to applying a filter to just one of the positions to get a single real-valued output.\n",
        "\n",
        "Later in this notebook, you'll apply this function to multiple positions of the input to implement the full convolutional operation.\n",
        "\n",
        "<a name='ex-2'></a>\n",
        "### Exercise 2 - conv_single_step\n",
        "Implement `conv_single_step()`.\n",
        "    \n",
        "Hint: Use [np.sum](https://docs.scipy.org/doc/numpy-1.13.0/reference/generated/numpy.sum.html) when necessary.\n"
      ],
      "metadata": {
        "id": "JvAezQ0YNIXu"
      }
    },
    {
      "cell_type": "markdown",
      "source": [
        "**Note**: The variable b is passed in as a numpy array.  Within the function, you need to cast it as a float to convert it to a scalar."
      ],
      "metadata": {
        "id": "i7A60gcFNIXv"
      }
    },
    {
      "cell_type": "code",
      "source": [
        "import numpy as np\n",
        "\n",
        "def conv_single_step(a_slice_prev, W, b):\n",
        "    \"\"\"\n",
        "    Apply one filter defined by parameters W on a single slice (a_slice_prev) of the output activation\n",
        "    of the previous layer.\n",
        "\n",
        "    Arguments:\n",
        "    a_slice_prev -- slice of input data of shape (f, f, n_C_prev)\n",
        "    W -- Weight parameters contained in a window - matrix of shape (f, f, n_C_prev)\n",
        "    b -- Bias parameters contained in a window - matrix of shape (1, 1, 1)\n",
        "\n",
        "    Returns:\n",
        "    Z -- a scalar value, the result of convolving the sliding window (W, b) on a slice x of the input data\n",
        "    \"\"\"\n",
        "    # Element-wise product between a_slice_prev and W. Do not add the bias yet.\n",
        "    s = np.multiply(a_slice_prev, W)\n",
        "\n",
        "    # Sum over all entries of the volume s.\n",
        "    Z = np.sum(s)\n",
        "\n",
        "    # Add bias b to Z. Remove the unnecessary float() casting.\n",
        "    Z = float(Z + b)\n",
        "\n",
        "    return Z\n"
      ],
      "outputs": [],
      "execution_count": 5,
      "metadata": {
        "deletable": false,
        "nbgrader": {
          "cell_type": "code",
          "checksum": "9ef959e74c801cce52d46fb16fb0ba0d",
          "grade": false,
          "grade_id": "cell-bd1b8f799894d4e0",
          "locked": false,
          "schema_version": 3,
          "solution": true,
          "task": false
        },
        "id": "BB-05qE9NIXv"
      }
    },
    {
      "cell_type": "code",
      "source": [
        "np.random.seed(1)\n",
        "a_slice_prev = np.random.randn(4, 4, 3)\n",
        "W = np.random.randn(4, 4, 3)\n",
        "b = np.random.randn(1, 1, 1)\n",
        "\n",
        "Z = conv_single_step(a_slice_prev, W, b)\n",
        "print(\"Z =\", Z)\n",
        "\n",
        "assert type(Z) == float, \"You must cast the output to float\"\n",
        "assert np.isclose(Z, -6.999089450680221), \"Wrong value\""
      ],
      "outputs": [
        {
          "output_type": "stream",
          "name": "stdout",
          "text": "Z = -6.999089450680221\n"
        }
      ],
      "execution_count": 6,
      "metadata": {
        "deletable": false,
        "editable": false,
        "nbgrader": {
          "cell_type": "code",
          "checksum": "794e89cc8202e83b9752d097a4c0d730",
          "grade": true,
          "grade_id": "cell-a77e63b4119ac3b9",
          "locked": true,
          "points": 10,
          "schema_version": 3,
          "solution": false,
          "task": false
        },
        "id": "3d5meuSGNIXv",
        "colab": {
          "base_uri": "https://localhost:8080/"
        },
        "outputId": "a64463ea-5f79-4ded-e33f-9771d5983032"
      }
    },
    {
      "cell_type": "markdown",
      "source": [
        "Your output should be:\n",
        "```python\n",
        "Z = -6.999089450680221\n",
        " ```"
      ],
      "metadata": {
        "id": "0HbvwsbOZ3z-"
      }
    },
    {
      "cell_type": "markdown",
      "source": [
        "<a name='3-3'></a>\n",
        "### 3.3 - Convolution - Forward Pass\n",
        "\n",
        "In the forward pass, you will take many filters and convolve them on the input. Each 'convolution' gives you a 2D matrix output. You will then stack these outputs to get a 3D volume.\n",
        "\n",
        "<a name='ex-3'></a>\n",
        "### Exercise 3 -  conv_forward\n",
        "Implement the function below to convolve the filters `W` on an input activation `A_prev`.  \n",
        "This function takes the following inputs:\n",
        "* `A_prev`, the activations output by the previous layer (for a batch of m inputs);\n",
        "* Weights are denoted by `W`.  The filter window size is `f` by `f`.\n",
        "* The bias vector is `b`, where each filter has its own (single) bias.\n",
        "\n",
        "You also have access to the hyperparameters dictionary, which contains the stride and the padding.\n",
        "\n"
      ],
      "metadata": {
        "id": "o2s-delfNIXv"
      }
    },
    {
      "cell_type": "markdown",
      "source": [
        "**Hint**:\n",
        "1. To select a 2x2 slice at the upper left corner of a matrix \"a_prev\" (shape (5,5,3)), you would do:\n",
        "```python\n",
        "a_slice_prev = a_prev[0:2,0:2,:]\n",
        "```\n",
        "Notice how this gives a 3D slice that has height 2, width 2, and depth 3.  Depth is the number of channels.  \n",
        "This will be useful when you will define `a_slice_prev` below, using the `start/end` indexes you will define.\n",
        "\n",
        "2. To define a_slice you will need to first define its corners `vert_start`, `vert_end`, `horiz_start` and `horiz_end`. This figure may be helpful for you to find out how each of the corners can be defined using h, w, f and s in the code below.\n",
        "\n",
        "\n",
        "**Reminder**:\n",
        "    \n",
        "The formulas relating the output shape of the convolution to the input shape are:\n",
        "    \n",
        "$$n_H = \\Bigl\\lfloor \\frac{n_{H_{prev}} - f + 2 \\times pad}{stride} \\Bigr\\rfloor +1$$\n",
        "$$n_W = \\Bigl\\lfloor \\frac{n_{W_{prev}} - f + 2 \\times pad}{stride} \\Bigr\\rfloor +1$$\n",
        "$$n_C = \\text{number of filters used in the convolution}$$\n",
        "    \n",
        "\n",
        "\n",
        "\n",
        "For this exercise, don't worry about vectorization! Just implement everything with for-loops.\n"
      ],
      "metadata": {
        "id": "EZQjZMGSa_wY"
      }
    },
    {
      "cell_type": "markdown",
      "source": [
        "#### Additional Hints (if you're stuck):\n",
        "\n",
        "\n",
        "* Use array slicing (e.g.`varname[0:1,:,3:5]`) for the following variables:  \n",
        "  `a_prev_pad` ,`W`, `b`  \n",
        "  - Copy the starter code of the function and run it outside of the defined function, in separate cells.  \n",
        "  - Check that the subset of each array is the size and dimension that you're expecting.  \n",
        "* To decide how to get the `vert_start`, `vert_end`, `horiz_start`, `horiz_end`, remember that these are indices of the previous layer.  \n",
        "  - Draw an example of a previous padded layer (8 x 8, for instance), and the current (output layer) (2 x 2, for instance).  \n",
        "  - The output layer's indices are denoted by `h` and `w`.  "
      ],
      "metadata": {
        "id": "QPCsCBN9NIXw"
      }
    },
    {
      "cell_type": "code",
      "source": [
        "# GRADED FUNCTION: conv_forward\n",
        "\n",
        "def conv_forward(A_prev, W, b, hparameters):\n",
        "    \"\"\"\n",
        "    Implements the forward propagation for a convolution function\n",
        "\n",
        "    Arguments:\n",
        "    A_prev -- output activations of the previous layer,\n",
        "        numpy array of shape (m, n_H_prev, n_W_prev, n_C_prev)\n",
        "    W -- Weights, numpy array of shape (f, f, n_C_prev, n_C)\n",
        "    b -- Biases, numpy array of shape (1, 1, 1, n_C)\n",
        "    hparameters -- python dictionary containing \"stride\" and \"pad\"\n",
        "\n",
        "    Returns:\n",
        "    Z -- conv output, numpy array of shape (m, n_H, n_W, n_C)\n",
        "    cache -- cache of values needed for the conv_backward() function\n",
        "    \"\"\"\n",
        "\n",
        "    # Retrieve dimensions from A_prev's shape\n",
        "    (m, n_H_prev, n_W_prev, n_C_prev) = A_prev.shape\n",
        "\n",
        "    # Retrieve dimensions from W's shape\n",
        "    (f, f, n_C_prev, n_C) = W.shape\n",
        "\n",
        "    # Retrieve information from \"hparameters\"\n",
        "    stride = hparameters[\"stride\"]\n",
        "    pad = hparameters[\"pad\"]\n",
        "\n",
        "    # Compute the dimensions of the CONV output volume using the formula given above.\n",
        "    # Hint: use int() to apply the 'floor' operation. (≈2 lines)\n",
        "    # YOUR CODE STARTS HERE\n",
        "    n_H = int((n_H_prev - f + 2 * pad) / stride) + 1\n",
        "    n_W = int((n_W_prev - f + 2 * pad) / stride) + 1\n",
        "    # YOUR CODE ENDS HERE\n",
        "\n",
        "    # Initialize the output volume Z with zeros. (≈1 line)\n",
        "    # YOUR CODE STARTS HERE\n",
        "    Z = np.zeros((m, n_H, n_W, n_C))\n",
        "    # YOUR CODE ENDS HERE\n",
        "\n",
        "    # Create A_prev_pad by padding A_prev using the previously implemented\n",
        "    # function zero_pad() and given hyperparameter 'pad'. (≈1 line)\n",
        "    # YOUR CODE STARTS HERE\n",
        "    A_prev_pad = zero_pad(A_prev, pad)\n",
        "    # YOUR CODE ENDS HERE\n",
        "\n",
        "    for i in range(m):               # loop over the batch of training examples\n",
        "        a_prev_pad = A_prev_pad[i]          # Select ith training example's padded activation\n",
        "        for h in range(n_H):           # loop over vertical axis of the output volume\n",
        "            # Find the vertical start and end of the current \"slice\" (≈2 lines)\n",
        "            # YOUR CODE STARTS HERE\n",
        "            vert_start = h * stride\n",
        "            vert_end = vert_start + f\n",
        "            # YOUR CODE ENDS HERE\n",
        "\n",
        "            for w in range(n_W):       # loop over horizontal axis of the output volume\n",
        "                # Find the horizontal start and end of the current \"slice\" (≈2 lines)\n",
        "                # YOUR CODE STARTS HERE\n",
        "                horiz_start = w * stride\n",
        "                horiz_end = horiz_start + f\n",
        "                # YOUR CODE ENDS HERE\n",
        "\n",
        "                for c in range(n_C):   # loop over channels (= #filters) of the output volume\n",
        "\n",
        "                    # Use the corners to define the (3D) slice of a_prev_pad (See Hint above the cell). (≈1 line)\n",
        "                    # YOUR CODE STARTS HERE\n",
        "                    a_slice_prev = a_prev_pad[vert_start:vert_end, horiz_start:horiz_end, :]\n",
        "\n",
        "                    # YOUR CODE ENDS HERE\n",
        "\n",
        "                    # Convolve the (3D) slice with the correct filter W and bias b, to get back one output neuron. (≈3 line)\n",
        "                    # Use previously implemented conv_single_step() function here.\n",
        "                    Z[i, h, w, c] = conv_single_step(a_slice_prev, W[:, :, :, c], b[:, :, :, c])\n",
        "                    # YOUR CODE STARTS HERE\n",
        "\n",
        "                    # YOUR CODE ENDS HERE\n",
        "    cache = (A_prev, W, b, hparameters)\n",
        "    return Z"
      ],
      "outputs": [],
      "execution_count": 7,
      "metadata": {
        "deletable": false,
        "nbgrader": {
          "cell_type": "code",
          "checksum": "812d5c174c04b75b9edaf9b77ce3da72",
          "grade": false,
          "grade_id": "cell-00b35b01091c3cdc",
          "locked": false,
          "schema_version": 3,
          "solution": true,
          "task": false
        },
        "id": "G9T2BiicNIXw"
      }
    },
    {
      "cell_type": "code",
      "source": [
        "np.random.seed(1)\n",
        "A_prev = np.random.randn(2, 5, 7, 4)\n",
        "W = np.random.randn(3, 3, 4, 8)\n",
        "b = np.random.randn(1, 1, 1, 8)\n",
        "hparameters = {\"pad\" : 1, \"stride\": 2}\n",
        "\n",
        "Z = conv_forward(A_prev, W, b, hparameters)\n",
        "print(\"Z's mean =\\n\", np.mean(Z))\n",
        "print(\"Z[0,2,1] =\\n\", Z[0, 2, 1])"
      ],
      "outputs": [
        {
          "output_type": "stream",
          "name": "stdout",
          "text": "Z's mean =\n 0.5511276474566764\nZ[0,2,1] =\n [-2.17796037  8.07171329 -0.5772704   3.36286738  4.48113645 -2.89198428\n 10.99288867  3.03171932]\n"
        }
      ],
      "execution_count": 8,
      "metadata": {
        "deletable": false,
        "editable": false,
        "nbgrader": {
          "cell_type": "code",
          "checksum": "f3dea502cdd13258e8b23dbb0a19402a",
          "grade": true,
          "grade_id": "cell-429520eed87675d9",
          "locked": true,
          "points": 10,
          "schema_version": 3,
          "solution": false,
          "task": false
        },
        "id": "y5ddZvmANIXw",
        "colab": {
          "base_uri": "https://localhost:8080/"
        },
        "outputId": "88b593e0-761c-49b6-c5e1-83e7e120c4b6"
      }
    },
    {
      "cell_type": "markdown",
      "source": [
        "Your output should be:\n",
        "```python\n",
        "Z's mean =\n",
        " 0.5511276474566768\n",
        "Z[0,2,1] =\n",
        " [-2.17796037  8.07171329 -0.5772704   3.36286738  4.48113645 -2.89198428\n",
        " 10.99288867  3.03171932]\n",
        " ```"
      ],
      "metadata": {
        "id": "ghLz1O7OeprG"
      }
    },
    {
      "cell_type": "markdown",
      "source": [
        "Finally, a CONV layer should also contain an activation, in which case you would add the following line of code:\n",
        "\n",
        "```python\n",
        "# Convolve the window to get back one output neuron\n",
        "Z[i, h, w, c] = ...\n",
        "# Apply activation\n",
        "A[i, h, w, c] = activation(Z[i, h, w, c])\n",
        "```\n",
        "\n",
        "You don't need to do it here, however.\n"
      ],
      "metadata": {
        "id": "9F_qHhtZNIXw"
      }
    },
    {
      "cell_type": "markdown",
      "source": [
        "<a name='4'></a>\n",
        "## 4 - Pooling Layer\n",
        "\n",
        "The pooling (POOL) layer reduces the height and width of the input. It helps reduce computation, as well as helps make feature detectors more invariant to its position in the input. The two types of pooling layers are:\n",
        "\n",
        "- Max-pooling layer: slides an ($f, f$) window over the input and stores the max value of the window in the output.\n",
        "\n",
        "- Average-pooling layer: slides an ($f, f$) window over the input and stores the average value of the window in the output.\n",
        "\n",
        "These pooling layers have no parameters for backpropagation to train. However, they have hyperparameters such as the window size $f$. This specifies the height and width of the $f \\times f$ window you would compute a *max* or *average* over.\n",
        "\n",
        "<a name='4-1'></a>\n",
        "### 4.1 - Forward Pooling\n",
        "Now, you are going to implement MAX-POOL and AVG-POOL, in the same function.\n",
        "\n",
        "<a name='ex-4'></a>\n",
        "### Exercise 4 - pool_forward\n",
        "\n",
        "Implement the forward pass of the pooling layer. Follow the hints in the comments below.\n",
        "\n",
        "**Reminder**:\n",
        "As there's no padding, the formulas binding the output shape of the pooling to the input shape is:\n",
        "\n",
        "$$n_H = \\Bigl\\lfloor \\frac{n_{H_{prev}} - f}{stride} \\Bigr\\rfloor +1$$\n",
        "\n",
        "$$n_W = \\Bigl\\lfloor \\frac{n_{W_{prev}} - f}{stride} \\Bigr\\rfloor +1$$\n",
        "\n",
        "$$n_C = n_{C_{prev}}$$\n",
        "\n",
        "\n"
      ],
      "metadata": {
        "id": "twCCaJ9xNIXw"
      }
    },
    {
      "cell_type": "code",
      "source": [
        "# GRADED FUNCTION: pool_forward\n",
        "\n",
        "def pool_forward(A_prev, hparameters, mode = \"max\"):\n",
        "    \"\"\"\n",
        "    Implements the forward pass of the pooling layer\n",
        "\n",
        "    Arguments:\n",
        "    A_prev -- Input data, numpy array of shape (m, n_H_prev, n_W_prev, n_C_prev)\n",
        "    hparameters -- python dictionary containing \"f\" and \"stride\"\n",
        "    mode -- the pooling mode you would like to use, defined as a string (\"max\" or \"average\")\n",
        "\n",
        "    Returns:\n",
        "    A -- output of the pool layer, a numpy array of shape (m, n_H, n_W, n_C)\n",
        "    cache -- cache used in the backward pass of the pooling layer, contains the input and hparameters\n",
        "    \"\"\"\n",
        "\n",
        "    # Retrieve dimensions from the input shape\n",
        "    (m, n_H_prev, n_W_prev, n_C_prev) = A_prev.shape\n",
        "\n",
        "    # Retrieve hyperparameters from \"hparameters\"\n",
        "    f = hparameters[\"f\"]\n",
        "    stride = hparameters[\"stride\"]\n",
        "\n",
        "    # Define the dimensions of the output (≈3 line)\n",
        "    ### START CODE HERE ###\n",
        "    n_H = int((n_H_prev - f) / stride) + 1\n",
        "    n_W = int((n_W_prev - f) / stride) + 1\n",
        "    n_C = n_C_prev\n",
        "    ### END CODE HERE ###\n",
        "\n",
        "    # Initialize output matrix A (≈1 line)\n",
        "    ### START CODE HERE ###\n",
        "    A = np.zeros((m, n_H, n_W, n_C))\n",
        "        ### END CODE HERE ###\n",
        "\n",
        "    for i in range(m):                         # loop over the training examples\n",
        "        a_prev_slice = A_prev[i]\n",
        "        for h in range(n_H):                     # loop on the vertical axis of the output volume\n",
        "            # Find the vertical start and end of the current \"slice\" (≈2 lines)\n",
        "            ### START CODE HERE ###\n",
        "            vert_start = h * stride\n",
        "            vert_end = vert_start + f\n",
        "            ### END CODE HERE ###\n",
        "\n",
        "            for w in range(n_W):                 # loop on the horizontal axis of the output volume\n",
        "                # Find the horizontal start and end of the current \"slice\" (≈2 lines)\n",
        "                ### START CODE HERE ###\n",
        "                horiz_start = w * stride\n",
        "                horiz_end = horiz_start + f\n",
        "                ### END CODE HERE ###\n",
        "\n",
        "                for c in range (n_C):            # loop over the channels of the output volume\n",
        "\n",
        "                    # Use the corners to define the current slice on the ith training example of A_prev, channel c. (≈1 line)\n",
        "                    ### START CODE HERE ###\n",
        "                    a_prev_slice = A_prev[i, vert_start:vert_end, horiz_start:horiz_end, c]\n",
        "\n",
        "                    ## END CODE HERE ###\n",
        "\n",
        "                    # Compute the pooling operation on the slice.\n",
        "                    # Use an if statement to differentiate the modes.\n",
        "                    # Use np.max and np.mean.\n",
        "                    if mode == \"max\":\n",
        "                        ## START CODE HERE ###\n",
        "                        A[i, h, w, c] = np.max(a_prev_slice)\n",
        "                        ## END CODE HERE ###\n",
        "                    elif mode == \"average\":\n",
        "                        ## START CODE HERE ###\n",
        "                        A[i, h, w, c] = np.mean(a_prev_slice)\n",
        "\n",
        "                        ## END CODE HERE ###\n",
        "                    else:\n",
        "                        print(mode+ \"-type pooling layer NOT Defined\")\n",
        "\n",
        "    # Making sure your output shape is correct\n",
        "    assert(A.shape == (m, n_H, n_W, n_C))\n",
        "\n",
        "    return A"
      ],
      "outputs": [],
      "execution_count": 9,
      "metadata": {
        "deletable": false,
        "nbgrader": {
          "cell_type": "code",
          "checksum": "0201a499bc4a2249c65fa3a736985fac",
          "grade": false,
          "grade_id": "cell-aed533a126205ca2",
          "locked": false,
          "schema_version": 3,
          "solution": true,
          "task": false
        },
        "id": "_rdqbUaDNIXx"
      }
    },
    {
      "cell_type": "code",
      "source": [
        "# Case 1: stride of 1\n",
        "np.random.seed(1)\n",
        "A_prev = np.random.randn(2, 5, 5, 3)\n",
        "hparameters = {\"stride\" : 1, \"f\": 3}\n",
        "\n",
        "A = pool_forward(A_prev, hparameters, mode = \"max\")\n",
        "print(\"mode = max\")\n",
        "print(\"A.shape = \" + str(A.shape))\n",
        "print(\"A[1, 1] =\\n\", A[1, 1])\n",
        "print()\n",
        "A = pool_forward(A_prev, hparameters, mode = \"average\")\n",
        "print(\"mode = average\")\n",
        "print(\"A.shape = \" + str(A.shape))\n",
        "print(\"A[1, 1] =\\n\", A[1, 1])\n"
      ],
      "outputs": [
        {
          "output_type": "stream",
          "name": "stdout",
          "text": "mode = max\nA.shape = (2, 3, 3, 3)\nA[1, 1] =\n [[1.96710175 0.84616065 1.27375593]\n [1.96710175 0.84616065 1.23616403]\n [1.62765075 1.12141771 1.2245077 ]]\n\nmode = average\nA.shape = (2, 3, 3, 3)\nA[1, 1] =\n [[ 0.44497696 -0.00261695 -0.31040307]\n [ 0.50811474 -0.23493734 -0.23961183]\n [ 0.11872677  0.17255229 -0.22112197]]\n"
        }
      ],
      "execution_count": 10,
      "metadata": {
        "deletable": false,
        "editable": false,
        "nbgrader": {
          "cell_type": "code",
          "checksum": "fb7e501b042f94e7bd4326dd6e0bed92",
          "grade": true,
          "grade_id": "cell-ae96f27f888cec37",
          "locked": true,
          "points": 10,
          "schema_version": 3,
          "solution": false,
          "task": false
        },
        "id": "rKYN6bWLNIXx",
        "colab": {
          "base_uri": "https://localhost:8080/"
        },
        "outputId": "d70f61f7-92b9-47e4-e6e0-992ab516d64d"
      }
    },
    {
      "cell_type": "markdown",
      "source": [
        "**Your Expected Output:**\n",
        "\n",
        "```\n",
        "mode = max\n",
        "A.shape = (2, 3, 3, 3)\n",
        "A[1, 1] =\n",
        " [[1.96710175 0.84616065 1.27375593]\n",
        " [1.96710175 0.84616065 1.23616403]\n",
        " [1.62765075 1.12141771 1.2245077 ]]\n",
        "\n",
        "mode = average\n",
        "A.shape = (2, 3, 3, 3)\n",
        "A[1, 1] =\n",
        " [[ 0.44497696 -0.00261695 -0.31040307]\n",
        " [ 0.50811474 -0.23493734 -0.23961183]\n",
        " [ 0.11872677  0.17255229 -0.22112197]]\n",
        "```"
      ],
      "metadata": {
        "id": "QtDgZHnWNIXx"
      }
    },
    {
      "cell_type": "code",
      "source": [
        "# Case 2: stride of 2\n",
        "np.random.seed(1)\n",
        "A_prev = np.random.randn(2, 5, 5, 3)\n",
        "hparameters = {\"stride\" : 2, \"f\": 3}\n",
        "\n",
        "A = pool_forward(A_prev, hparameters)\n",
        "print(\"mode = max\")\n",
        "print(\"A.shape = \" + str(A.shape))\n",
        "print(\"A[0] =\\n\", A[0])\n",
        "print()\n",
        "\n",
        "A = pool_forward(A_prev, hparameters, mode = \"average\")\n",
        "print(\"mode = average\")\n",
        "print(\"A.shape = \" + str(A.shape))\n",
        "print(\"A[1] =\\n\", A[1])"
      ],
      "outputs": [],
      "execution_count": 11,
      "metadata": {
        "deletable": false,
        "editable": false,
        "nbgrader": {
          "cell_type": "code",
          "checksum": "756f8dfdbdba11c66fc0b342d8be23c4",
          "grade": true,
          "grade_id": "cell-2bc34b23ee92311b",
          "locked": true,
          "points": 0,
          "schema_version": 3,
          "solution": false,
          "task": false
        },
        "id": "iMGyNDZCNIXx",
        "colab": {
          "base_uri": "https://localhost:8080/"
        },
        "outputId": "f113feeb-850d-4208-e45a-7cae2765f2c9"
      }
    },
    {
      "cell_type": "markdown",
      "source": [
        "**Your Expected Output:**\n",
        "    \n",
        "```\n",
        "mode = max\n",
        "A.shape = (2, 2, 2, 3)\n",
        "A[0] =\n",
        " [[[1.74481176 0.90159072 1.65980218]\n",
        "  [1.74481176 1.6924546  1.65980218]]\n",
        "\n",
        " [[1.13162939 1.51981682 2.18557541]\n",
        "  [1.13162939 1.6924546  2.18557541]]]\n",
        "\n",
        "mode = average\n",
        "A.shape = (2, 2, 2, 3)\n",
        "A[1] =\n",
        " [[[-0.17313416  0.32377198 -0.34317572]\n",
        "  [ 0.02030094  0.14141479 -0.01231585]]\n",
        "\n",
        " [[ 0.42944926  0.08446996 -0.27290905]\n",
        "  [ 0.15077452  0.28911175  0.00123239]]]\n",
        "```"
      ],
      "metadata": {
        "id": "pA466uDHNIXx"
      }
    },
    {
      "cell_type": "markdown",
      "source": [
        "**Congratulations**! You have now implemented the forward passes of all the layers of a convolutional network. Great work!"
      ],
      "metadata": {
        "id": "X2Obi-dKNIXy"
      }
    },
    {
      "cell_type": "code",
      "source": [],
      "outputs": [],
      "execution_count": 28,
      "metadata": {
        "id": "Nfegm8bnO4GX"
      }
    }
  ],
  "metadata": {
    "coursera": {
      "course_slug": "convolutional-neural-networks",
      "graded_item_id": "qO8ng",
      "launcher_item_id": "7XDi8"
    },
    "kernelspec": {
      "name": "python",
      "language": "python",
      "display_name": "Pyolite (preview)"
    },
    "language_info": {
      "codemirror_mode": {
        "name": "python",
        "version": 3
      },
      "file_extension": ".py",
      "mimetype": "text/x-python",
      "name": "python",
      "nbconvert_exporter": "python",
      "pygments_lexer": "ipython3",
      "version": "3.8"
    },
    "colab": {
      "provenance": []
    },
    "kernel_info": {
      "name": "python"
    },
    "nteract": {
      "version": "nteract-front-end@1.0.0"
    }
  },
  "nbformat": 4,
  "nbformat_minor": 0
}